{
 "cells": [
  {
   "cell_type": "code",
   "execution_count": 1,
   "metadata": {},
   "outputs": [],
   "source": [
    "import pandas as pd\n",
    "\n",
    "\n",
    "m1 = pd.read_csv('XGB.csv')\n",
    "m2 = pd.read_csv('LGBM.csv')\n",
    "m3 = pd.read_csv('FIN_segrnn_multi_9_1013_seed333.csv')\n",
    "m4 = pd.read_csv('FIN_segrnn_uni_9_1013_seed333.csv')\n",
    "\n",
    "g1 = m1.copy()\n",
    "g1.iloc[:, 1:] = (m1.iloc[:, 1:] + m2.iloc[:, 1:]) / 2 \n",
    "g2 = m3.copy()\n",
    "g2.iloc[:, 1:] = (m3.iloc[:, 1:] + m4.iloc[:, 1:]) / 2 \n",
    "\n",
    "submit = pd.read_csv('sample_submission.csv')\n",
    "\n",
    "submit['감자'] = g1['감자']*0.8 + g2['감자']*0.2\n",
    "submit['건고추'] = g1['건고추']*0.1 + g2['건고추']*0.9\n",
    "submit['깐마늘(국산)'] = g1['깐마늘(국산)']*0.1 + g2['깐마늘(국산)']*0.9\n",
    "submit['대파'] = g1['대파']*0.4 + g2['대파']*0.6\n",
    "submit['무'] = g1['무']*0.8 + g2['무']*0.2\n",
    "submit['배추'] = g1['배추']\n",
    "submit['사과'] = g1['사과']*0.7 + g2['사과']*0.3\n",
    "submit['상추'] = g1['상추']*0.5 + g2['상추']*0.5\n",
    "submit['양파'] = g1['양파']*0.3 + g2['양파']*0.7\n",
    "submit['배'] = g1['배']*0.1 + g2['배']*0.9\n",
    "\n",
    "submit.to_csv('final.csv', encoding = 'utf-8', index = False)"
   ]
  }
 ],
 "metadata": {
  "kernelspec": {
   "display_name": "Python 3",
   "language": "python",
   "name": "python3"
  },
  "language_info": {
   "codemirror_mode": {
    "name": "ipython",
    "version": 3
   },
   "file_extension": ".py",
   "mimetype": "text/x-python",
   "name": "python",
   "nbconvert_exporter": "python",
   "pygments_lexer": "ipython3",
   "version": "3.8.6"
  }
 },
 "nbformat": 4,
 "nbformat_minor": 2
}
